{
 "cells": [
  {
   "cell_type": "markdown",
   "metadata": {},
   "source": [
    "<center>\n",
    "    <img src=\"https://s3-api.us-geo.objectstorage.softlayer.net/cf-courses-data/CognitiveClass/Logos/organization_logo/organization_logo.png\" width=\"300\" alt=\"cognitiveclass.ai logo\"  />\n",
    "</center>\n",
    "\n",
    "<h1 align=center><font size = 5>Assignment: Notebook for Peer Assignment</font></h1>\n"
   ]
  },
  {
   "cell_type": "markdown",
   "metadata": {},
   "source": [
    "# Introduction\n",
    "\n",
    "Using this Python notebook you will:\n",
    "\n",
    "1.  Understand three Chicago datasets\n",
    "2.  Load the three datasets into three tables in a Db2 database\n",
    "3.  Execute SQL queries to answer assignment questions\n"
   ]
  },
  {
   "cell_type": "markdown",
   "metadata": {},
   "source": [
    "## Understand the datasets\n",
    "\n",
    "To complete the assignment problems in this notebook you will be using three datasets that are available on the city of Chicago's Data Portal:\n",
    "\n",
    "1.  <a href=\"https://data.cityofchicago.org/Health-Human-Services/Census-Data-Selected-socioeconomic-indicators-in-C/kn9c-c2s2?utm_medium=Exinfluencer&utm_source=Exinfluencer&utm_content=000026UJ&utm_term=10006555&utm_id=NA-SkillsNetwork-Channel-SkillsNetworkCoursesIBMDeveloperSkillsNetworkDB0201ENSkillsNetwork20127838-2022-01-01\">Socioeconomic Indicators in Chicago</a>\n",
    "2.  <a href=\"https://data.cityofchicago.org/Education/Chicago-Public-Schools-Progress-Report-Cards-2011-/9xs2-f89t?utm_medium=Exinfluencer&utm_source=Exinfluencer&utm_content=000026UJ&utm_term=10006555&utm_id=NA-SkillsNetwork-Channel-SkillsNetworkCoursesIBMDeveloperSkillsNetworkDB0201ENSkillsNetwork20127838-2022-01-01\">Chicago Public Schools</a>\n",
    "3.  <a href=\"https://data.cityofchicago.org/Public-Safety/Crimes-2001-to-present/ijzp-q8t2?utm_medium=Exinfluencer&utm_source=Exinfluencer&utm_content=000026UJ&utm_term=10006555&utm_id=NA-SkillsNetwork-Channel-SkillsNetworkCoursesIBMDeveloperSkillsNetworkDB0201ENSkillsNetwork20127838-2022-01-01\">Chicago Crime Data</a>\n",
    "\n",
    "### 1. Socioeconomic Indicators in Chicago\n",
    "\n",
    "This dataset contains a selection of six socioeconomic indicators of public health significance and a “hardship index,” for each Chicago community area, for the years 2008 – 2012.\n",
    "\n",
    "A detailed description of this dataset and the original dataset can be obtained from the Chicago Data Portal at:\n",
    "[https://data.cityofchicago.org/Health-Human-Services/Census-Data-Selected-socioeconomic-indicators-in-C/kn9c-c2s2](https://data.cityofchicago.org/Health-Human-Services/Census-Data-Selected-socioeconomic-indicators-in-C/kn9c-c2s2?utm_medium=Exinfluencer&utm_source=Exinfluencer&utm_content=000026UJ&utm_term=10006555&utm_id=NA-SkillsNetwork-Channel-SkillsNetworkCoursesIBMDeveloperSkillsNetworkDB0201ENSkillsNetwork20127838-2022-01-01&cm_mmc=Email_Newsletter-\\_-Developer_Ed%2BTech-\\_-WW_WW-\\_-SkillsNetwork-Courses-IBMDeveloperSkillsNetwork-DB0201EN-SkillsNetwork-20127838&cm_mmca1=000026UJ&cm_mmca2=10006555&cm_mmca3=M12345678&cvosrc=email.Newsletter.M12345678&cvo_campaign=000026UJ)\n",
    "\n",
    "### 2. Chicago Public Schools\n",
    "\n",
    "This dataset shows all school level performance data used to create CPS School Report Cards for the 2011-2012 school year. This dataset is provided by the city of Chicago's Data Portal.\n",
    "\n",
    "A detailed description of this dataset and the original dataset can be obtained from the Chicago Data Portal at:\n",
    "[https://data.cityofchicago.org/Education/Chicago-Public-Schools-Progress-Report-Cards-2011-/9xs2-f89t](https://data.cityofchicago.org/Education/Chicago-Public-Schools-Progress-Report-Cards-2011-/9xs2-f89t?utm_medium=Exinfluencer&utm_source=Exinfluencer&utm_content=000026UJ&utm_term=10006555&utm_id=NA-SkillsNetwork-Channel-SkillsNetworkCoursesIBMDeveloperSkillsNetworkDB0201ENSkillsNetwork20127838-2022-01-01&cm_mmc=Email_Newsletter-\\_-Developer_Ed%2BTech-\\_-WW_WW-\\_-SkillsNetwork-Courses-IBMDeveloperSkillsNetwork-DB0201EN-SkillsNetwork-20127838&cm_mmca1=000026UJ&cm_mmca2=10006555&cm_mmca3=M12345678&cvosrc=email.Newsletter.M12345678&cvo_campaign=000026UJ)\n",
    "\n",
    "### 3. Chicago Crime Data\n",
    "\n",
    "This dataset reflects reported incidents of crime (with the exception of murders where data exists for each victim) that occurred in the City of Chicago from 2001 to present, minus the most recent seven days.\n",
    "\n",
    "A detailed description of this dataset and the original dataset can be obtained from the Chicago Data Portal at:\n",
    "[https://data.cityofchicago.org/Public-Safety/Crimes-2001-to-present/ijzp-q8t2](https://data.cityofchicago.org/Public-Safety/Crimes-2001-to-present/ijzp-q8t2?utm_medium=Exinfluencer&utm_source=Exinfluencer&utm_content=000026UJ&utm_term=10006555&utm_id=NA-SkillsNetwork-Channel-SkillsNetworkCoursesIBMDeveloperSkillsNetworkDB0201ENSkillsNetwork20127838-2022-01-01&cm_mmc=Email_Newsletter-\\_-Developer_Ed%2BTech-\\_-WW_WW-\\_-SkillsNetwork-Courses-IBMDeveloperSkillsNetwork-DB0201EN-SkillsNetwork-20127838&cm_mmca1=000026UJ&cm_mmca2=10006555&cm_mmca3=M12345678&cvosrc=email.Newsletter.M12345678&cvo_campaign=000026UJ)\n"
   ]
  },
  {
   "cell_type": "markdown",
   "metadata": {},
   "source": [
    "### Download the datasets\n",
    "\n",
    "This assignment requires you to have these three tables populated with a subset of the whole datasets.\n",
    "\n",
    "In many cases the dataset to be analyzed is available as a .CSV (comma separated values) file, perhaps on the internet. Click on the links below to download and save the datasets (.CSV files):\n",
    "\n",
    "*   <a href=\"https://cf-courses-data.s3.us.cloud-object-storage.appdomain.cloud/IBMDeveloperSkillsNetwork-DB0201EN-SkillsNetwork/labs/FinalModule_Coursera_V5/data/ChicagoCensusData.csv?utm_medium=Exinfluencer&utm_source=Exinfluencer&utm_content=000026UJ&utm_term=10006555&utm_id=NA-SkillsNetwork-Channel-SkillsNetworkCoursesIBMDeveloperSkillsNetworkDB0201ENSkillsNetwork20127838-2022-01-01\" target=\"_blank\">Chicago Census Data</a>\n",
    "\n",
    "*   <a href=\"https://cf-courses-data.s3.us.cloud-object-storage.appdomain.cloud/IBMDeveloperSkillsNetwork-DB0201EN-SkillsNetwork/labs/FinalModule_Coursera_V5/data/ChicagoPublicSchools.csv?utm_medium=Exinfluencer&utm_source=Exinfluencer&utm_content=000026UJ&utm_term=10006555&utm_id=NA-SkillsNetwork-Channel-SkillsNetworkCoursesIBMDeveloperSkillsNetworkDB0201ENSkillsNetwork20127838-2022-01-01\" target=\"_blank\">Chicago Public Schools</a>\n",
    "\n",
    "*   <a href=\"https://cf-courses-data.s3.us.cloud-object-storage.appdomain.cloud/IBMDeveloperSkillsNetwork-DB0201EN-SkillsNetwork/labs/FinalModule_Coursera_V5/data/ChicagoCrimeData.csv?utm_medium=Exinfluencer&utm_source=Exinfluencer&utm_content=000026UJ&utm_term=10006555&utm_id=NA-SkillsNetwork-Channel-SkillsNetworkCoursesIBMDeveloperSkillsNetworkDB0201ENSkillsNetwork20127838-2022-01-01\" target=\"_blank\">Chicago Crime Data</a>\n",
    "\n",
    "**NOTE**: For the learners who are encountering issues with loading from .csv in DB2 on Firefox, you can download the .txt files and load the data with those:\n",
    "\n",
    "*   <a href=\"https://cf-courses-data.s3.us.cloud-object-storage.appdomain.cloud/IBMDeveloperSkillsNetwork-DB0201EN-SkillsNetwork/labs/FinalModule_Coursera_V5/data/ChicagoCensusData.txt?utm_medium=Exinfluencer&utm_source=Exinfluencer&utm_content=000026UJ&utm_term=10006555&utm_id=NA-SkillsNetwork-Channel-SkillsNetworkCoursesIBMDeveloperSkillsNetworkDB0201ENSkillsNetwork20127838-2022-01-01\" target=\"_blank\">Chicago Census Data</a>\n",
    "\n",
    "*   <a href=\"https://cf-courses-data.s3.us.cloud-object-storage.appdomain.cloud/IBMDeveloperSkillsNetwork-DB0201EN-SkillsNetwork/labs/FinalModule_Coursera_V5/data/ChicagoPublicSchools.txt?utm_medium=Exinfluencer&utm_source=Exinfluencer&utm_content=000026UJ&utm_term=10006555&utm_id=NA-SkillsNetwork-Channel-SkillsNetworkCoursesIBMDeveloperSkillsNetworkDB0201ENSkillsNetwork20127838-2022-01-01\" target=\"_blank\">Chicago Public Schools</a>\n",
    "\n",
    "*   <a href=\"https://cf-courses-data.s3.us.cloud-object-storage.appdomain.cloud/IBMDeveloperSkillsNetwork-DB0201EN-SkillsNetwork/labs/FinalModule_Coursera_V5/data/ChicagoCrimeData.txt?utm_medium=Exinfluencer&utm_source=Exinfluencer&utm_content=000026UJ&utm_term=10006555&utm_id=NA-SkillsNetwork-Channel-SkillsNetworkCoursesIBMDeveloperSkillsNetworkDB0201ENSkillsNetwork20127838-2022-01-01\" target=\"_blank\">Chicago Crime Data</a>\n",
    "\n",
    "**NOTE:** Ensure you have downloaded the datasets using the links above instead of directly from the Chicago Data Portal. The versions linked here are subsets of the original datasets and have some of the column names modified to be more database friendly which will make it easier to complete this assignment.\n"
   ]
  },
  {
   "cell_type": "markdown",
   "metadata": {},
   "source": [
    "### Store the datasets in database tables\n",
    "\n",
    "To analyze the data using SQL, it first needs to be stored in the database.\n",
    "\n",
    "While it is easier to read the dataset into a Pandas dataframe and then PERSIST it into the database as we saw in Week 3 Lab 3, it results in mapping to default datatypes which may not be optimal for SQL querying. For example a long textual field may map to a CLOB instead of a VARCHAR.\n",
    "\n",
    "Therefore, **it is highly recommended to manually load the table using the database console LOAD tool, as indicated in Week 2 Lab 1 Part II**. The only difference with that lab is that in Step 5 of the instructions you will need to click on create \"(+) New Table\" and specify the name of the table you want to create and then click \"Next\".\n",
    "\n",
    "<img src = \"https://cf-courses-data.s3.us.cloud-object-storage.appdomain.cloud/IBMDeveloperSkillsNetwork-DB0201EN-SkillsNetwork/labs/FinalModule_Coursera_V5/images/LoadingData.png\">\n",
    "\n",
    "##### Now open the Db2 console, open the LOAD tool, Select / Drag the .CSV file for the first dataset, Next create a New Table, and then follow the steps on-screen instructions to load the data. Name the new tables as follows:\n",
    "\n",
    "1.  **CENSUS_DATA**\n",
    "2.  **CHICAGO_PUBLIC_SCHOOLS**\n",
    "3.  **CHICAGO_CRIME_DATA**\n"
   ]
  },
  {
   "cell_type": "markdown",
   "metadata": {},
   "source": [
    "### Connect to the database\n",
    "\n",
    "Let us first load the SQL extension and establish a connection with the database\n",
    "\n",
    "The following required modules are pre-installed in the Skills Network Labs environment. However if you run this notebook commands in a different Jupyter environment (e.g. Watson Studio or Ananconda) you may need to install these libraries by removing the `#` sign before `!pip` in the code cell below.\n"
   ]
  },
  {
   "cell_type": "code",
   "execution_count": null,
   "metadata": {},
   "outputs": [],
   "source": [
    "# These libraries are pre-installed in SN Labs. If running in another environment please uncomment lines below to install them:\n",
    "# !pip install --force-reinstall ibm_db==3.1.0 ibm_db_sa==0.3.3\n",
    "# Ensure we don't load_ext with sqlalchemy>=1.4 (incompadible)\n",
    "# !pip uninstall sqlalchemy==1.4 -y && pip install sqlalchemy==1.3.24\n",
    "# !pip install ipython-sql"
   ]
  },
  {
   "cell_type": "code",
   "execution_count": 2,
   "metadata": {},
   "outputs": [
    {
     "name": "stdout",
     "output_type": "stream",
     "text": [
      "The sql extension is already loaded. To reload it, use:\n",
      "  %reload_ext sql\n"
     ]
    }
   ],
   "source": [
    "%load_ext sql"
   ]
  },
  {
   "cell_type": "markdown",
   "metadata": {},
   "source": [
    "In the next cell enter your db2 connection string. Recall you created Service Credentials for your Db2 instance in first lab in Week 3. From your Db2 service credentials copy everything after db2:// (except the double quote at the end) and paste it in the cell below after ibm_db_sa://\n",
    "\n",
    "<img src =\"https://cf-courses-data.s3.us.cloud-object-storage.appdomain.cloud/IBMDeveloperSkillsNetwork-DB0201EN-SkillsNetwork/labs/FinalModule_Coursera_V5/images/details.png\">\n"
   ]
  },
  {
   "cell_type": "code",
   "execution_count": 3,
   "metadata": {},
   "outputs": [
    {
     "data": {
      "text/plain": [
       "'Connected: xqk12606@BLUDB'"
      ]
     },
     "execution_count": 3,
     "metadata": {},
     "output_type": "execute_result"
    }
   ],
   "source": [
    "# Remember the connection string is of the format:\n",
    "# %sql ibm_db_sa://my-username:my-password@my-hostname:my-port/my-db-name?security=SSL\n",
    "# Enter the connection string for your Db2 on Cloud database instance below\n",
    "%sql ibm_db_sa://xqk12606:1d0EdOELSHZDqOfo@54a2f15b-5c0f-46df-8954-7e38e612c2bd.c1ogj3sd0tgtu0lqde00.databases.appdomain.cloud:32733/BLUDB?security=SSL"
   ]
  },
  {
   "cell_type": "markdown",
   "metadata": {
    "tags": []
   },
   "source": [
    "## Sample data Table"
   ]
  },
  {
   "cell_type": "markdown",
   "metadata": {
    "tags": []
   },
   "source": [
    "#### CHICAGO_CRIME_DATA"
   ]
  },
  {
   "cell_type": "code",
   "execution_count": 6,
   "metadata": {},
   "outputs": [
    {
     "name": "stdout",
     "output_type": "stream",
     "text": [
      " * ibm_db_sa://xqk12606:***@54a2f15b-5c0f-46df-8954-7e38e612c2bd.c1ogj3sd0tgtu0lqde00.databases.appdomain.cloud:32733/BLUDB\n",
      "Done.\n"
     ]
    },
    {
     "data": {
      "text/html": [
       "<table>\n",
       "    <thead>\n",
       "        <tr>\n",
       "            <th>id</th>\n",
       "            <th>case_number</th>\n",
       "            <th>DATE</th>\n",
       "            <th>block</th>\n",
       "            <th>iucr</th>\n",
       "            <th>primary_type</th>\n",
       "            <th>description</th>\n",
       "            <th>location_description</th>\n",
       "            <th>arrest</th>\n",
       "            <th>domestic</th>\n",
       "            <th>beat</th>\n",
       "            <th>district</th>\n",
       "            <th>ward</th>\n",
       "            <th>community_area_number</th>\n",
       "            <th>fbicode</th>\n",
       "            <th>x_coordinate</th>\n",
       "            <th>y_coordinate</th>\n",
       "            <th>YEAR</th>\n",
       "            <th>latitude</th>\n",
       "            <th>longitude</th>\n",
       "            <th>location</th>\n",
       "        </tr>\n",
       "    </thead>\n",
       "    <tbody>\n",
       "        <tr>\n",
       "            <td>3512276</td>\n",
       "            <td>HK587712</td>\n",
       "            <td>2004-08-28</td>\n",
       "            <td>047XX S KEDZIE AVE</td>\n",
       "            <td>890</td>\n",
       "            <td>THEFT</td>\n",
       "            <td>FROM BUILDING</td>\n",
       "            <td>SMALL RETAIL STORE</td>\n",
       "            <td>FALSE</td>\n",
       "            <td>FALSE</td>\n",
       "            <td>911</td>\n",
       "            <td>9</td>\n",
       "            <td>14</td>\n",
       "            <td>58</td>\n",
       "            <td>6</td>\n",
       "            <td>1155838</td>\n",
       "            <td>1873050</td>\n",
       "            <td>2004</td>\n",
       "            <td>41.80744050</td>\n",
       "            <td>-87.70395585</td>\n",
       "            <td>(41.8074405, -87.703955849)</td>\n",
       "        </tr>\n",
       "        <tr>\n",
       "            <td>3406613</td>\n",
       "            <td>HK456306</td>\n",
       "            <td>2004-06-26</td>\n",
       "            <td>009XX N CENTRAL PARK AVE</td>\n",
       "            <td>820</td>\n",
       "            <td>THEFT</td>\n",
       "            <td>$500 AND UNDER</td>\n",
       "            <td>OTHER</td>\n",
       "            <td>FALSE</td>\n",
       "            <td>FALSE</td>\n",
       "            <td>1112</td>\n",
       "            <td>11</td>\n",
       "            <td>27</td>\n",
       "            <td>23</td>\n",
       "            <td>6</td>\n",
       "            <td>1152206</td>\n",
       "            <td>1906127</td>\n",
       "            <td>2004</td>\n",
       "            <td>41.89827996</td>\n",
       "            <td>-87.71640551</td>\n",
       "            <td>(41.898279962, -87.716405505)</td>\n",
       "        </tr>\n",
       "        <tr>\n",
       "            <td>8002131</td>\n",
       "            <td>HT233595</td>\n",
       "            <td>2011-04-04</td>\n",
       "            <td>043XX S WABASH AVE</td>\n",
       "            <td>820</td>\n",
       "            <td>THEFT</td>\n",
       "            <td>$500 AND UNDER</td>\n",
       "            <td>NURSING HOME/RETIREMENT HOME</td>\n",
       "            <td>FALSE</td>\n",
       "            <td>FALSE</td>\n",
       "            <td>221</td>\n",
       "            <td>2</td>\n",
       "            <td>3</td>\n",
       "            <td>38</td>\n",
       "            <td>6</td>\n",
       "            <td>1177436</td>\n",
       "            <td>1876313</td>\n",
       "            <td>2011</td>\n",
       "            <td>41.81593313</td>\n",
       "            <td>-87.62464213</td>\n",
       "            <td>(41.815933131, -87.624642127)</td>\n",
       "        </tr>\n",
       "    </tbody>\n",
       "</table>"
      ],
      "text/plain": [
       "[(3512276, 'HK587712', datetime.date(2004, 8, 28), '047XX S KEDZIE AVE', '890', 'THEFT', 'FROM BUILDING', 'SMALL RETAIL STORE', 'FALSE', 'FALSE', 911, 9, 14, 58, '6', 1155838, 1873050, 2004, Decimal('41.80744050'), Decimal('-87.70395585'), '(41.8074405, -87.703955849)'),\n",
       " (3406613, 'HK456306', datetime.date(2004, 6, 26), '009XX N CENTRAL PARK AVE', '820', 'THEFT', '$500 AND UNDER', 'OTHER', 'FALSE', 'FALSE', 1112, 11, 27, 23, '6', 1152206, 1906127, 2004, Decimal('41.89827996'), Decimal('-87.71640551'), '(41.898279962, -87.716405505)'),\n",
       " (8002131, 'HT233595', datetime.date(2011, 4, 4), '043XX S WABASH AVE', '820', 'THEFT', '$500 AND UNDER', 'NURSING HOME/RETIREMENT HOME', 'FALSE', 'FALSE', 221, 2, 3, 38, '6', 1177436, 1876313, 2011, Decimal('41.81593313'), Decimal('-87.62464213'), '(41.815933131, -87.624642127)')]"
      ]
     },
     "execution_count": 6,
     "metadata": {},
     "output_type": "execute_result"
    }
   ],
   "source": [
    "%sql SELECT * FROM CHICAGO_CRIME_DATA LIMIT 3;"
   ]
  },
  {
   "cell_type": "markdown",
   "metadata": {
    "jp-MarkdownHeadingCollapsed": true,
    "tags": []
   },
   "source": [
    "#### CHICAGO_PUBLIC_SCHOOLS"
   ]
  },
  {
   "cell_type": "code",
   "execution_count": 7,
   "metadata": {},
   "outputs": [
    {
     "name": "stdout",
     "output_type": "stream",
     "text": [
      " * ibm_db_sa://xqk12606:***@54a2f15b-5c0f-46df-8954-7e38e612c2bd.c1ogj3sd0tgtu0lqde00.databases.appdomain.cloud:32733/BLUDB\n",
      "Done.\n"
     ]
    },
    {
     "data": {
      "text/html": [
       "<table>\n",
       "    <thead>\n",
       "        <tr>\n",
       "            <th>school_id</th>\n",
       "            <th>name_of_school</th>\n",
       "            <th>Elementary, Middle, or High School</th>\n",
       "            <th>street_address</th>\n",
       "            <th>city</th>\n",
       "            <th>state</th>\n",
       "            <th>zip_code</th>\n",
       "            <th>phone_number</th>\n",
       "            <th>link</th>\n",
       "            <th>network_manager</th>\n",
       "            <th>collaborative_name</th>\n",
       "            <th>adequate_yearly_progress_made_</th>\n",
       "            <th>track_schedule</th>\n",
       "            <th>cps_performance_policy_status</th>\n",
       "            <th>cps_performance_policy_level</th>\n",
       "            <th>healthy_school_certified</th>\n",
       "            <th>safety_icon</th>\n",
       "            <th>safety_score</th>\n",
       "            <th>family_involvement_icon</th>\n",
       "            <th>family_involvement_score</th>\n",
       "            <th>environment_icon</th>\n",
       "            <th>environment_score</th>\n",
       "            <th>instruction_icon</th>\n",
       "            <th>instruction_score</th>\n",
       "            <th>leaders_icon</th>\n",
       "            <th>leaders_score</th>\n",
       "            <th>teachers_icon</th>\n",
       "            <th>teachers_score</th>\n",
       "            <th>parent_engagement_icon</th>\n",
       "            <th>parent_engagement_score</th>\n",
       "            <th>parent_environment_icon</th>\n",
       "            <th>parent_environment_score</th>\n",
       "            <th>average_student_attendance</th>\n",
       "            <th>rate_of_misconducts__per_100_students_</th>\n",
       "            <th>average_teacher_attendance</th>\n",
       "            <th>individualized_education_program_compliance_rate</th>\n",
       "            <th>pk_2_literacy__</th>\n",
       "            <th>pk_2_math__</th>\n",
       "            <th>gr3_5_grade_level_math__</th>\n",
       "            <th>gr3_5_grade_level_read__</th>\n",
       "            <th>gr3_5_keep_pace_read__</th>\n",
       "            <th>gr3_5_keep_pace_math__</th>\n",
       "            <th>gr6_8_grade_level_math__</th>\n",
       "            <th>gr6_8_grade_level_read__</th>\n",
       "            <th>gr6_8_keep_pace_math_</th>\n",
       "            <th>gr6_8_keep_pace_read__</th>\n",
       "            <th>gr_8_explore_math__</th>\n",
       "            <th>gr_8_explore_read__</th>\n",
       "            <th>isat_exceeding_math__</th>\n",
       "            <th>isat_exceeding_reading__</th>\n",
       "            <th>isat_value_add_math</th>\n",
       "            <th>isat_value_add_read</th>\n",
       "            <th>isat_value_add_color_math</th>\n",
       "            <th>isat_value_add_color_read</th>\n",
       "            <th>students_taking__algebra__</th>\n",
       "            <th>students_passing__algebra__</th>\n",
       "            <th>9th Grade EXPLORE (2009)</th>\n",
       "            <th>9th Grade EXPLORE (2010)</th>\n",
       "            <th>10th Grade PLAN (2009)</th>\n",
       "            <th>10th Grade PLAN (2010)</th>\n",
       "            <th>net_change_explore_and_plan</th>\n",
       "            <th>11th Grade Average ACT (2011)</th>\n",
       "            <th>net_change_plan_and_act</th>\n",
       "            <th>college_eligibility__</th>\n",
       "            <th>graduation_rate__</th>\n",
       "            <th>college_enrollment_rate__</th>\n",
       "            <th>college_enrollment</th>\n",
       "            <th>general_services_route</th>\n",
       "            <th>freshman_on_track_rate__</th>\n",
       "            <th>x_coordinate</th>\n",
       "            <th>y_coordinate</th>\n",
       "            <th>latitude</th>\n",
       "            <th>longitude</th>\n",
       "            <th>community_area_number</th>\n",
       "            <th>community_area_name</th>\n",
       "            <th>ward</th>\n",
       "            <th>police_district</th>\n",
       "            <th>location</th>\n",
       "        </tr>\n",
       "    </thead>\n",
       "    <tbody>\n",
       "        <tr>\n",
       "            <td>610038</td>\n",
       "            <td>Abraham Lincoln Elementary School</td>\n",
       "            <td>ES</td>\n",
       "            <td>615 W Kemper Pl</td>\n",
       "            <td>Chicago</td>\n",
       "            <td>IL</td>\n",
       "            <td>60614</td>\n",
       "            <td>(773) 534-5720</td>\n",
       "            <td>http://schoolreports.cps.edu/SchoolProgressReport_Eng/Spring2011Eng_610038.pdf</td>\n",
       "            <td>Fullerton Elementary Network</td>\n",
       "            <td>NORTH-NORTHWEST SIDE COLLABORATIVE</td>\n",
       "            <td>No</td>\n",
       "            <td>Standard</td>\n",
       "            <td>Not on Probation</td>\n",
       "            <td>Level 1</td>\n",
       "            <td>Yes</td>\n",
       "            <td>Very Strong</td>\n",
       "            <td>99</td>\n",
       "            <td>Very Strong</td>\n",
       "            <td>99</td>\n",
       "            <td>Strong</td>\n",
       "            <td>74</td>\n",
       "            <td>Strong</td>\n",
       "            <td>66</td>\n",
       "            <td>Weak</td>\n",
       "            <td>65</td>\n",
       "            <td>Strong</td>\n",
       "            <td>70</td>\n",
       "            <td>Strong</td>\n",
       "            <td>56</td>\n",
       "            <td>Average</td>\n",
       "            <td>47</td>\n",
       "            <td>96.00%</td>\n",
       "            <td>2.0</td>\n",
       "            <td>96.40%</td>\n",
       "            <td>95.80%</td>\n",
       "            <td>80.1</td>\n",
       "            <td>43.3</td>\n",
       "            <td>89.6</td>\n",
       "            <td>84.9</td>\n",
       "            <td>60.7</td>\n",
       "            <td>62.6</td>\n",
       "            <td>81.9</td>\n",
       "            <td>85.2</td>\n",
       "            <td>52</td>\n",
       "            <td>62.4</td>\n",
       "            <td>66.3</td>\n",
       "            <td>77.9</td>\n",
       "            <td>69.7</td>\n",
       "            <td>64.4</td>\n",
       "            <td>0.2</td>\n",
       "            <td>0.9</td>\n",
       "            <td>Yellow</td>\n",
       "            <td>Green</td>\n",
       "            <td>67.1</td>\n",
       "            <td>54.5</td>\n",
       "            <td>NDA</td>\n",
       "            <td>NDA</td>\n",
       "            <td>NDA</td>\n",
       "            <td>NDA</td>\n",
       "            <td>NDA</td>\n",
       "            <td>NDA</td>\n",
       "            <td>NDA</td>\n",
       "            <td>NDA</td>\n",
       "            <td>NDA</td>\n",
       "            <td>NDA</td>\n",
       "            <td>813</td>\n",
       "            <td>33</td>\n",
       "            <td>NDA</td>\n",
       "            <td>1171699.458</td>\n",
       "            <td>1915829.428</td>\n",
       "            <td>41.92449696</td>\n",
       "            <td>-87.64452163</td>\n",
       "            <td>7</td>\n",
       "            <td>LINCOLN PARK</td>\n",
       "            <td>43</td>\n",
       "            <td>18</td>\n",
       "            <td>(41.92449696, -87.64452163)</td>\n",
       "        </tr>\n",
       "        <tr>\n",
       "            <td>610281</td>\n",
       "            <td>Adam Clayton Powell Paideia Community Academy Elementary School</td>\n",
       "            <td>ES</td>\n",
       "            <td>7511 S South Shore Dr</td>\n",
       "            <td>Chicago</td>\n",
       "            <td>IL</td>\n",
       "            <td>60649</td>\n",
       "            <td>(773) 535-6650</td>\n",
       "            <td>http://schoolreports.cps.edu/SchoolProgressReport_Eng/Spring2011Eng_610281.pdf</td>\n",
       "            <td>Skyway Elementary Network</td>\n",
       "            <td>SOUTH SIDE COLLABORATIVE</td>\n",
       "            <td>No</td>\n",
       "            <td>Track_E</td>\n",
       "            <td>Not on Probation</td>\n",
       "            <td>Level 1</td>\n",
       "            <td>No</td>\n",
       "            <td>Average</td>\n",
       "            <td>54</td>\n",
       "            <td>Strong</td>\n",
       "            <td>66</td>\n",
       "            <td>Strong</td>\n",
       "            <td>74</td>\n",
       "            <td>Very Strong</td>\n",
       "            <td>84</td>\n",
       "            <td>Weak</td>\n",
       "            <td>63</td>\n",
       "            <td>Strong</td>\n",
       "            <td>76</td>\n",
       "            <td>Weak</td>\n",
       "            <td>46</td>\n",
       "            <td>Average</td>\n",
       "            <td>50</td>\n",
       "            <td>95.60%</td>\n",
       "            <td>15.7</td>\n",
       "            <td>95.30%</td>\n",
       "            <td>100.00%</td>\n",
       "            <td>62.4</td>\n",
       "            <td>51.7</td>\n",
       "            <td>21.9</td>\n",
       "            <td>15.1</td>\n",
       "            <td>29</td>\n",
       "            <td>42.8</td>\n",
       "            <td>38.5</td>\n",
       "            <td>27.4</td>\n",
       "            <td>44.8</td>\n",
       "            <td>42.7</td>\n",
       "            <td>14.1</td>\n",
       "            <td>34.4</td>\n",
       "            <td>16.8</td>\n",
       "            <td>16.5</td>\n",
       "            <td>0.7</td>\n",
       "            <td>1.4</td>\n",
       "            <td>Green</td>\n",
       "            <td>Green</td>\n",
       "            <td>17.2</td>\n",
       "            <td>27.3</td>\n",
       "            <td>NDA</td>\n",
       "            <td>NDA</td>\n",
       "            <td>NDA</td>\n",
       "            <td>NDA</td>\n",
       "            <td>NDA</td>\n",
       "            <td>NDA</td>\n",
       "            <td>NDA</td>\n",
       "            <td>NDA</td>\n",
       "            <td>NDA</td>\n",
       "            <td>NDA</td>\n",
       "            <td>521</td>\n",
       "            <td>46</td>\n",
       "            <td>NDA</td>\n",
       "            <td>1196129.985</td>\n",
       "            <td>1856209.466</td>\n",
       "            <td>41.76032435</td>\n",
       "            <td>-87.55673627</td>\n",
       "            <td>43</td>\n",
       "            <td>SOUTH SHORE</td>\n",
       "            <td>7</td>\n",
       "            <td>4</td>\n",
       "            <td>(41.76032435, -87.55673627)</td>\n",
       "        </tr>\n",
       "        <tr>\n",
       "            <td>610185</td>\n",
       "            <td>Adlai E Stevenson Elementary School</td>\n",
       "            <td>ES</td>\n",
       "            <td>8010 S Kostner Ave</td>\n",
       "            <td>Chicago</td>\n",
       "            <td>IL</td>\n",
       "            <td>60652</td>\n",
       "            <td>(773) 535-2280</td>\n",
       "            <td>http://schoolreports.cps.edu/SchoolProgressReport_Eng/Spring2011Eng_610185.pdf</td>\n",
       "            <td>Midway Elementary Network</td>\n",
       "            <td>SOUTHWEST SIDE COLLABORATIVE</td>\n",
       "            <td>No</td>\n",
       "            <td>Standard</td>\n",
       "            <td>Not on Probation</td>\n",
       "            <td>Level 2</td>\n",
       "            <td>No</td>\n",
       "            <td>Strong</td>\n",
       "            <td>61</td>\n",
       "            <td>NDA</td>\n",
       "            <td>NDA</td>\n",
       "            <td>Average</td>\n",
       "            <td>50</td>\n",
       "            <td>Weak</td>\n",
       "            <td>36</td>\n",
       "            <td>Weak</td>\n",
       "            <td>NDA</td>\n",
       "            <td>NDA</td>\n",
       "            <td>NDA</td>\n",
       "            <td>Average</td>\n",
       "            <td>47</td>\n",
       "            <td>Weak</td>\n",
       "            <td>41</td>\n",
       "            <td>95.70%</td>\n",
       "            <td>2.3</td>\n",
       "            <td>94.70%</td>\n",
       "            <td>98.30%</td>\n",
       "            <td>53.7</td>\n",
       "            <td>26.6</td>\n",
       "            <td>38.3</td>\n",
       "            <td>34.7</td>\n",
       "            <td>43.7</td>\n",
       "            <td>57.3</td>\n",
       "            <td>48.8</td>\n",
       "            <td>39.2</td>\n",
       "            <td>46.8</td>\n",
       "            <td>44</td>\n",
       "            <td>7.5</td>\n",
       "            <td>21.9</td>\n",
       "            <td>18.3</td>\n",
       "            <td>15.5</td>\n",
       "            <td>-0.9</td>\n",
       "            <td>-1.0</td>\n",
       "            <td>Red</td>\n",
       "            <td>Red</td>\n",
       "            <td>NDA</td>\n",
       "            <td>NDA</td>\n",
       "            <td>NDA</td>\n",
       "            <td>NDA</td>\n",
       "            <td>NDA</td>\n",
       "            <td>NDA</td>\n",
       "            <td>NDA</td>\n",
       "            <td>NDA</td>\n",
       "            <td>NDA</td>\n",
       "            <td>NDA</td>\n",
       "            <td>NDA</td>\n",
       "            <td>NDA</td>\n",
       "            <td>1324</td>\n",
       "            <td>44</td>\n",
       "            <td>NDA</td>\n",
       "            <td>1148427.165</td>\n",
       "            <td>1851012.215</td>\n",
       "            <td>41.74711093</td>\n",
       "            <td>-87.73170248</td>\n",
       "            <td>70</td>\n",
       "            <td>ASHBURN</td>\n",
       "            <td>13</td>\n",
       "            <td>8</td>\n",
       "            <td>(41.74711093, -87.73170248)</td>\n",
       "        </tr>\n",
       "    </tbody>\n",
       "</table>"
      ],
      "text/plain": [
       "[(610038, 'Abraham Lincoln Elementary School', 'ES', '615 W Kemper Pl', 'Chicago', 'IL', 60614, '(773) 534-5720', 'http://schoolreports.cps.edu/SchoolProgressReport_Eng/Spring2011Eng_610038.pdf', 'Fullerton Elementary Network', 'NORTH-NORTHWEST SIDE COLLABORATIVE', 'No', 'Standard', 'Not on Probation', 'Level 1', 'Yes', 'Very Strong', 99, 'Very Strong', '99', 'Strong', 74, 'Strong', 66, 'Weak', '65', 'Strong', '70', 'Strong', '56', 'Average', '47', '96.00%', Decimal('2.0'), '96.40%', '95.80%', '80.1', '43.3', '89.6', '84.9', '60.7', '62.6', '81.9', '85.2', '52', '62.4', '66.3', '77.9', Decimal('69.7'), Decimal('64.4'), Decimal('0.2'), Decimal('0.9'), 'Yellow', 'Green', '67.1', '54.5', 'NDA', 'NDA', 'NDA', 'NDA', 'NDA', 'NDA', 'NDA', 'NDA', 'NDA', 'NDA', 813, 33, 'NDA', Decimal('1171699.458'), Decimal('1915829.428'), Decimal('41.92449696'), Decimal('-87.64452163'), 7, 'LINCOLN PARK', 43, 18, '(41.92449696, -87.64452163)'),\n",
       " (610281, 'Adam Clayton Powell Paideia Community Academy Elementary School', 'ES', '7511 S South Shore Dr', 'Chicago', 'IL', 60649, '(773) 535-6650', 'http://schoolreports.cps.edu/SchoolProgressReport_Eng/Spring2011Eng_610281.pdf', 'Skyway Elementary Network', 'SOUTH SIDE COLLABORATIVE', 'No', 'Track_E', 'Not on Probation', 'Level 1', 'No', 'Average', 54, 'Strong', '66', 'Strong', 74, 'Very Strong', 84, 'Weak', '63', 'Strong', '76', 'Weak', '46', 'Average', '50', '95.60%', Decimal('15.7'), '95.30%', '100.00%', '62.4', '51.7', '21.9', '15.1', '29', '42.8', '38.5', '27.4', '44.8', '42.7', '14.1', '34.4', Decimal('16.8'), Decimal('16.5'), Decimal('0.7'), Decimal('1.4'), 'Green', 'Green', '17.2', '27.3', 'NDA', 'NDA', 'NDA', 'NDA', 'NDA', 'NDA', 'NDA', 'NDA', 'NDA', 'NDA', 521, 46, 'NDA', Decimal('1196129.985'), Decimal('1856209.466'), Decimal('41.76032435'), Decimal('-87.55673627'), 43, 'SOUTH SHORE', 7, 4, '(41.76032435, -87.55673627)'),\n",
       " (610185, 'Adlai E Stevenson Elementary School', 'ES', '8010 S Kostner Ave', 'Chicago', 'IL', 60652, '(773) 535-2280', 'http://schoolreports.cps.edu/SchoolProgressReport_Eng/Spring2011Eng_610185.pdf', 'Midway Elementary Network', 'SOUTHWEST SIDE COLLABORATIVE', 'No', 'Standard', 'Not on Probation', 'Level 2', 'No', 'Strong', 61, 'NDA', 'NDA', 'Average', 50, 'Weak', 36, 'Weak', 'NDA', 'NDA', 'NDA', 'Average', '47', 'Weak', '41', '95.70%', Decimal('2.3'), '94.70%', '98.30%', '53.7', '26.6', '38.3', '34.7', '43.7', '57.3', '48.8', '39.2', '46.8', '44', '7.5', '21.9', Decimal('18.3'), Decimal('15.5'), Decimal('-0.9'), Decimal('-1.0'), 'Red', 'Red', 'NDA', 'NDA', 'NDA', 'NDA', 'NDA', 'NDA', 'NDA', 'NDA', 'NDA', 'NDA', 'NDA', 'NDA', 1324, 44, 'NDA', Decimal('1148427.165'), Decimal('1851012.215'), Decimal('41.74711093'), Decimal('-87.73170248'), 70, 'ASHBURN', 13, 8, '(41.74711093, -87.73170248)')]"
      ]
     },
     "execution_count": 7,
     "metadata": {},
     "output_type": "execute_result"
    }
   ],
   "source": [
    "%sql SELECT * FROM CHICAGO_PUBLIC_SCHOOLS LIMIT 3;"
   ]
  },
  {
   "cell_type": "markdown",
   "metadata": {
    "tags": []
   },
   "source": [
    "#### CENSUS_DATA"
   ]
  },
  {
   "cell_type": "code",
   "execution_count": 8,
   "metadata": {},
   "outputs": [
    {
     "name": "stdout",
     "output_type": "stream",
     "text": [
      " * ibm_db_sa://xqk12606:***@54a2f15b-5c0f-46df-8954-7e38e612c2bd.c1ogj3sd0tgtu0lqde00.databases.appdomain.cloud:32733/BLUDB\n",
      "Done.\n"
     ]
    },
    {
     "data": {
      "text/html": [
       "<table>\n",
       "    <thead>\n",
       "        <tr>\n",
       "            <th>community_area_number</th>\n",
       "            <th>community_area_name</th>\n",
       "            <th>percent_of_housing_crowded</th>\n",
       "            <th>percent_households_below_poverty</th>\n",
       "            <th>percent_aged_16__unemployed</th>\n",
       "            <th>percent_aged_25__without_high_school_diploma</th>\n",
       "            <th>percent_aged_under_18_or_over_64</th>\n",
       "            <th>per_capita_income</th>\n",
       "            <th>hardship_index</th>\n",
       "        </tr>\n",
       "    </thead>\n",
       "    <tbody>\n",
       "        <tr>\n",
       "            <td>1</td>\n",
       "            <td>Rogers Park</td>\n",
       "            <td>7.7</td>\n",
       "            <td>23.6</td>\n",
       "            <td>8.7</td>\n",
       "            <td>18.2</td>\n",
       "            <td>27.5</td>\n",
       "            <td>23939</td>\n",
       "            <td>39</td>\n",
       "        </tr>\n",
       "        <tr>\n",
       "            <td>2</td>\n",
       "            <td>West Ridge</td>\n",
       "            <td>7.8</td>\n",
       "            <td>17.2</td>\n",
       "            <td>8.8</td>\n",
       "            <td>20.8</td>\n",
       "            <td>38.5</td>\n",
       "            <td>23040</td>\n",
       "            <td>46</td>\n",
       "        </tr>\n",
       "        <tr>\n",
       "            <td>3</td>\n",
       "            <td>Uptown</td>\n",
       "            <td>3.8</td>\n",
       "            <td>24.0</td>\n",
       "            <td>8.9</td>\n",
       "            <td>11.8</td>\n",
       "            <td>22.2</td>\n",
       "            <td>35787</td>\n",
       "            <td>20</td>\n",
       "        </tr>\n",
       "    </tbody>\n",
       "</table>"
      ],
      "text/plain": [
       "[(1, 'Rogers Park', Decimal('7.7'), Decimal('23.6'), Decimal('8.7'), Decimal('18.2'), Decimal('27.5'), 23939, 39),\n",
       " (2, 'West Ridge', Decimal('7.8'), Decimal('17.2'), Decimal('8.8'), Decimal('20.8'), Decimal('38.5'), 23040, 46),\n",
       " (3, 'Uptown', Decimal('3.8'), Decimal('24.0'), Decimal('8.9'), Decimal('11.8'), Decimal('22.2'), 35787, 20)]"
      ]
     },
     "execution_count": 8,
     "metadata": {},
     "output_type": "execute_result"
    }
   ],
   "source": [
    "%sql SELECT * FROM CENSUS_DATA LIMIT 3;"
   ]
  },
  {
   "cell_type": "markdown",
   "metadata": {
    "tags": []
   },
   "source": [
    "## Problems\n",
    "\n",
    "Now write and execute SQL queries to solve assignment problems\n",
    "\n",
    "### Problem 1\n",
    "\n",
    "##### Find the total number of crimes recorded in the CRIME table.\n"
   ]
  },
  {
   "cell_type": "code",
   "execution_count": 9,
   "metadata": {},
   "outputs": [
    {
     "name": "stdout",
     "output_type": "stream",
     "text": [
      " * ibm_db_sa://xqk12606:***@54a2f15b-5c0f-46df-8954-7e38e612c2bd.c1ogj3sd0tgtu0lqde00.databases.appdomain.cloud:32733/BLUDB\n",
      "Done.\n"
     ]
    },
    {
     "data": {
      "text/html": [
       "<table>\n",
       "    <thead>\n",
       "        <tr>\n",
       "            <th>1</th>\n",
       "        </tr>\n",
       "    </thead>\n",
       "    <tbody>\n",
       "        <tr>\n",
       "            <td>533</td>\n",
       "        </tr>\n",
       "    </tbody>\n",
       "</table>"
      ],
      "text/plain": [
       "[(533,)]"
      ]
     },
     "execution_count": 9,
     "metadata": {},
     "output_type": "execute_result"
    }
   ],
   "source": [
    "%sql SELECT COUNT(*) FROM CHICAGO_CRIME_DATA;"
   ]
  },
  {
   "cell_type": "markdown",
   "metadata": {
    "jp-MarkdownHeadingCollapsed": true,
    "tags": []
   },
   "source": [
    "### Problem 2\n",
    "\n",
    "##### List community areas with per capita income less than 11000.\n"
   ]
  },
  {
   "cell_type": "code",
   "execution_count": 10,
   "metadata": {},
   "outputs": [
    {
     "name": "stdout",
     "output_type": "stream",
     "text": [
      " * ibm_db_sa://xqk12606:***@54a2f15b-5c0f-46df-8954-7e38e612c2bd.c1ogj3sd0tgtu0lqde00.databases.appdomain.cloud:32733/BLUDB\n",
      "Done.\n"
     ]
    },
    {
     "data": {
      "text/html": [
       "<table>\n",
       "    <thead>\n",
       "        <tr>\n",
       "            <th>community_area_name</th>\n",
       "        </tr>\n",
       "    </thead>\n",
       "    <tbody>\n",
       "        <tr>\n",
       "            <td>West Garfield Park</td>\n",
       "        </tr>\n",
       "        <tr>\n",
       "            <td>South Lawndale</td>\n",
       "        </tr>\n",
       "        <tr>\n",
       "            <td>Fuller Park</td>\n",
       "        </tr>\n",
       "        <tr>\n",
       "            <td>Riverdale</td>\n",
       "        </tr>\n",
       "    </tbody>\n",
       "</table>"
      ],
      "text/plain": [
       "[('West Garfield Park',),\n",
       " ('South Lawndale',),\n",
       " ('Fuller Park',),\n",
       " ('Riverdale',)]"
      ]
     },
     "execution_count": 10,
     "metadata": {},
     "output_type": "execute_result"
    }
   ],
   "source": [
    "%%sql SELECT community_area_name FROM CENSUS_DATA\n",
    "    WHERE per_capita_income < 11000;"
   ]
  },
  {
   "cell_type": "markdown",
   "metadata": {
    "jp-MarkdownHeadingCollapsed": true,
    "tags": []
   },
   "source": [
    "### Problem 3\n",
    "\n",
    "##### List all case numbers for crimes  involving minors?(children are not considered minors for the purposes of crime analysis)\n"
   ]
  },
  {
   "cell_type": "code",
   "execution_count": 17,
   "metadata": {},
   "outputs": [
    {
     "name": "stdout",
     "output_type": "stream",
     "text": [
      " * ibm_db_sa://xqk12606:***@54a2f15b-5c0f-46df-8954-7e38e612c2bd.c1ogj3sd0tgtu0lqde00.databases.appdomain.cloud:32733/BLUDB\n",
      "Done.\n"
     ]
    },
    {
     "data": {
      "text/html": [
       "<table>\n",
       "    <thead>\n",
       "        <tr>\n",
       "            <th>case_number</th>\n",
       "        </tr>\n",
       "    </thead>\n",
       "    <tbody>\n",
       "        <tr>\n",
       "            <td>HL266884</td>\n",
       "        </tr>\n",
       "        <tr>\n",
       "            <td>HK238408</td>\n",
       "        </tr>\n",
       "    </tbody>\n",
       "</table>"
      ],
      "text/plain": [
       "[('HL266884',), ('HK238408',)]"
      ]
     },
     "execution_count": 17,
     "metadata": {},
     "output_type": "execute_result"
    }
   ],
   "source": [
    "%%sql SELECT case_number\n",
    "    FROM CHICAGO_CRIME_DATA\n",
    "    WHERE description LIKE '%MINOR%';"
   ]
  },
  {
   "cell_type": "markdown",
   "metadata": {
    "jp-MarkdownHeadingCollapsed": true,
    "tags": []
   },
   "source": [
    "### Problem 4\n",
    "\n",
    "##### List all kidnapping crimes involving a child?\n"
   ]
  },
  {
   "cell_type": "code",
   "execution_count": 23,
   "metadata": {},
   "outputs": [
    {
     "name": "stdout",
     "output_type": "stream",
     "text": [
      " * ibm_db_sa://xqk12606:***@54a2f15b-5c0f-46df-8954-7e38e612c2bd.c1ogj3sd0tgtu0lqde00.databases.appdomain.cloud:32733/BLUDB\n",
      "Done.\n"
     ]
    },
    {
     "data": {
      "text/html": [
       "<table>\n",
       "    <thead>\n",
       "        <tr>\n",
       "            <th>case_number</th>\n",
       "        </tr>\n",
       "    </thead>\n",
       "    <tbody>\n",
       "        <tr>\n",
       "            <td>HN144152</td>\n",
       "        </tr>\n",
       "    </tbody>\n",
       "</table>"
      ],
      "text/plain": [
       "[('HN144152',)]"
      ]
     },
     "execution_count": 23,
     "metadata": {},
     "output_type": "execute_result"
    }
   ],
   "source": [
    "%%sql SELECT case_number\n",
    "    FROM CHICAGO_CRIME_DATA\n",
    "    WHERE primary_type = 'KIDNAPPING';"
   ]
  },
  {
   "cell_type": "markdown",
   "metadata": {
    "jp-MarkdownHeadingCollapsed": true,
    "tags": []
   },
   "source": [
    "### Problem 5\n",
    "\n",
    "##### What kinds of crimes were recorded at schools?\n"
   ]
  },
  {
   "cell_type": "code",
   "execution_count": 25,
   "metadata": {},
   "outputs": [
    {
     "name": "stdout",
     "output_type": "stream",
     "text": [
      " * ibm_db_sa://xqk12606:***@54a2f15b-5c0f-46df-8954-7e38e612c2bd.c1ogj3sd0tgtu0lqde00.databases.appdomain.cloud:32733/BLUDB\n",
      "Done.\n"
     ]
    },
    {
     "data": {
      "text/html": [
       "<table>\n",
       "    <thead>\n",
       "        <tr>\n",
       "            <th>primary_type</th>\n",
       "            <th>description</th>\n",
       "            <th>location_description</th>\n",
       "        </tr>\n",
       "    </thead>\n",
       "    <tbody>\n",
       "        <tr>\n",
       "            <td>BATTERY</td>\n",
       "            <td>SIMPLE</td>\n",
       "            <td>SCHOOL, PUBLIC, GROUNDS</td>\n",
       "        </tr>\n",
       "        <tr>\n",
       "            <td>BATTERY</td>\n",
       "            <td>PRO EMP HANDS NO/MIN INJURY</td>\n",
       "            <td>SCHOOL, PUBLIC, BUILDING</td>\n",
       "        </tr>\n",
       "        <tr>\n",
       "            <td>BATTERY</td>\n",
       "            <td>SIMPLE</td>\n",
       "            <td>SCHOOL, PUBLIC, BUILDING</td>\n",
       "        </tr>\n",
       "        <tr>\n",
       "            <td>BATTERY</td>\n",
       "            <td>SIMPLE</td>\n",
       "            <td>SCHOOL, PUBLIC, BUILDING</td>\n",
       "        </tr>\n",
       "        <tr>\n",
       "            <td>BATTERY</td>\n",
       "            <td>SIMPLE</td>\n",
       "            <td>SCHOOL, PUBLIC, GROUNDS</td>\n",
       "        </tr>\n",
       "        <tr>\n",
       "            <td>CRIMINAL DAMAGE</td>\n",
       "            <td>TO VEHICLE</td>\n",
       "            <td>SCHOOL, PUBLIC, GROUNDS</td>\n",
       "        </tr>\n",
       "        <tr>\n",
       "            <td>NARCOTICS</td>\n",
       "            <td>POSS: HEROIN(WHITE)</td>\n",
       "            <td>SCHOOL, PUBLIC, GROUNDS</td>\n",
       "        </tr>\n",
       "        <tr>\n",
       "            <td>NARCOTICS</td>\n",
       "            <td>MANU/DEL:CANNABIS 10GM OR LESS</td>\n",
       "            <td>SCHOOL, PUBLIC, BUILDING</td>\n",
       "        </tr>\n",
       "        <tr>\n",
       "            <td>ASSAULT</td>\n",
       "            <td>PRO EMP HANDS NO/MIN INJURY</td>\n",
       "            <td>SCHOOL, PUBLIC, GROUNDS</td>\n",
       "        </tr>\n",
       "        <tr>\n",
       "            <td>CRIMINAL TRESPA</td>\n",
       "            <td>TO LAND</td>\n",
       "            <td>SCHOOL, PUBLIC, GROUNDS</td>\n",
       "        </tr>\n",
       "        <tr>\n",
       "            <td>PUBLIC PEACE VI</td>\n",
       "            <td>BOMB THREAT</td>\n",
       "            <td>SCHOOL, PRIVATE, BUILDING</td>\n",
       "        </tr>\n",
       "        <tr>\n",
       "            <td>PUBLIC PEACE VI</td>\n",
       "            <td>BOMB THREAT</td>\n",
       "            <td>SCHOOL, PUBLIC, BUILDING</td>\n",
       "        </tr>\n",
       "    </tbody>\n",
       "</table>"
      ],
      "text/plain": [
       "[('BATTERY', 'SIMPLE', 'SCHOOL, PUBLIC, GROUNDS'),\n",
       " ('BATTERY', 'PRO EMP HANDS NO/MIN INJURY', 'SCHOOL, PUBLIC, BUILDING'),\n",
       " ('BATTERY', 'SIMPLE', 'SCHOOL, PUBLIC, BUILDING'),\n",
       " ('BATTERY', 'SIMPLE', 'SCHOOL, PUBLIC, BUILDING'),\n",
       " ('BATTERY', 'SIMPLE', 'SCHOOL, PUBLIC, GROUNDS'),\n",
       " ('CRIMINAL DAMAGE', 'TO VEHICLE', 'SCHOOL, PUBLIC, GROUNDS'),\n",
       " ('NARCOTICS', 'POSS: HEROIN(WHITE)', 'SCHOOL, PUBLIC, GROUNDS'),\n",
       " ('NARCOTICS', 'MANU/DEL:CANNABIS 10GM OR LESS', 'SCHOOL, PUBLIC, BUILDING'),\n",
       " ('ASSAULT', 'PRO EMP HANDS NO/MIN INJURY', 'SCHOOL, PUBLIC, GROUNDS'),\n",
       " ('CRIMINAL TRESPA', 'TO LAND', 'SCHOOL, PUBLIC, GROUNDS'),\n",
       " ('PUBLIC PEACE VI', 'BOMB THREAT', 'SCHOOL, PRIVATE, BUILDING'),\n",
       " ('PUBLIC PEACE VI', 'BOMB THREAT', 'SCHOOL, PUBLIC, BUILDING')]"
      ]
     },
     "execution_count": 25,
     "metadata": {},
     "output_type": "execute_result"
    }
   ],
   "source": [
    "%%sql SELECT primary_type, description, location_description\n",
    "    FROM CHICAGO_CRIME_DATA\n",
    "    WHERE location_description LIKE '%SCHOOL%';"
   ]
  },
  {
   "cell_type": "markdown",
   "metadata": {
    "jp-MarkdownHeadingCollapsed": true,
    "tags": []
   },
   "source": [
    "### Problem 6\n",
    "\n",
    "##### List the average safety score for each type of school.\n"
   ]
  },
  {
   "cell_type": "code",
   "execution_count": 29,
   "metadata": {},
   "outputs": [
    {
     "name": "stdout",
     "output_type": "stream",
     "text": [
      " * ibm_db_sa://xqk12606:***@54a2f15b-5c0f-46df-8954-7e38e612c2bd.c1ogj3sd0tgtu0lqde00.databases.appdomain.cloud:32733/BLUDB\n",
      "Done.\n"
     ]
    },
    {
     "data": {
      "text/html": [
       "<table>\n",
       "    <thead>\n",
       "        <tr>\n",
       "            <th>average_safety_score</th>\n",
       "            <th>Elementary, Middle, or High School</th>\n",
       "        </tr>\n",
       "    </thead>\n",
       "    <tbody>\n",
       "        <tr>\n",
       "            <td>49</td>\n",
       "            <td>ES</td>\n",
       "        </tr>\n",
       "        <tr>\n",
       "            <td>49</td>\n",
       "            <td>HS</td>\n",
       "        </tr>\n",
       "        <tr>\n",
       "            <td>48</td>\n",
       "            <td>MS</td>\n",
       "        </tr>\n",
       "    </tbody>\n",
       "</table>"
      ],
      "text/plain": [
       "[(49, 'ES'), (49, 'HS'), (48, 'MS')]"
      ]
     },
     "execution_count": 29,
     "metadata": {},
     "output_type": "execute_result"
    }
   ],
   "source": [
    "%%sql SELECT AVG(safety_score) AS average_safety_score, \"Elementary, Middle, or High School\"\n",
    "    FROM CHICAGO_PUBLIC_SCHOOLS\n",
    "    GROUP BY \"Elementary, Middle, or High School\";"
   ]
  },
  {
   "cell_type": "markdown",
   "metadata": {
    "jp-MarkdownHeadingCollapsed": true,
    "tags": []
   },
   "source": [
    "### Problem 7\n",
    "\n",
    "##### List 5 community areas with highest % of households below poverty line\n"
   ]
  },
  {
   "cell_type": "code",
   "execution_count": 32,
   "metadata": {},
   "outputs": [
    {
     "name": "stdout",
     "output_type": "stream",
     "text": [
      " * ibm_db_sa://xqk12606:***@54a2f15b-5c0f-46df-8954-7e38e612c2bd.c1ogj3sd0tgtu0lqde00.databases.appdomain.cloud:32733/BLUDB\n",
      "Done.\n"
     ]
    },
    {
     "data": {
      "text/html": [
       "<table>\n",
       "    <thead>\n",
       "        <tr>\n",
       "            <th>community_area_name</th>\n",
       "            <th>percent_households_below_poverty</th>\n",
       "        </tr>\n",
       "    </thead>\n",
       "    <tbody>\n",
       "        <tr>\n",
       "            <td>Riverdale</td>\n",
       "            <td>56.5</td>\n",
       "        </tr>\n",
       "        <tr>\n",
       "            <td>Fuller Park</td>\n",
       "            <td>51.2</td>\n",
       "        </tr>\n",
       "        <tr>\n",
       "            <td>Englewood</td>\n",
       "            <td>46.6</td>\n",
       "        </tr>\n",
       "        <tr>\n",
       "            <td>North Lawndale</td>\n",
       "            <td>43.1</td>\n",
       "        </tr>\n",
       "        <tr>\n",
       "            <td>East Garfield Park</td>\n",
       "            <td>42.4</td>\n",
       "        </tr>\n",
       "    </tbody>\n",
       "</table>"
      ],
      "text/plain": [
       "[('Riverdale', Decimal('56.5')),\n",
       " ('Fuller Park', Decimal('51.2')),\n",
       " ('Englewood', Decimal('46.6')),\n",
       " ('North Lawndale', Decimal('43.1')),\n",
       " ('East Garfield Park', Decimal('42.4'))]"
      ]
     },
     "execution_count": 32,
     "metadata": {},
     "output_type": "execute_result"
    }
   ],
   "source": [
    "%%sql SELECT community_area_name, percent_households_below_poverty FROM CENSUS_DATA \n",
    "    ORDER BY percent_households_below_poverty DESC\n",
    "    LIMIT 5;"
   ]
  },
  {
   "cell_type": "markdown",
   "metadata": {
    "jp-MarkdownHeadingCollapsed": true,
    "tags": []
   },
   "source": [
    "### Problem 8\n",
    "\n",
    "##### Which community area is most crime prone?\n"
   ]
  },
  {
   "cell_type": "code",
   "execution_count": 111,
   "metadata": {},
   "outputs": [
    {
     "name": "stdout",
     "output_type": "stream",
     "text": [
      " * ibm_db_sa://xqk12606:***@54a2f15b-5c0f-46df-8954-7e38e612c2bd.c1ogj3sd0tgtu0lqde00.databases.appdomain.cloud:32733/BLUDB\n",
      "Done.\n"
     ]
    },
    {
     "data": {
      "text/html": [
       "<table>\n",
       "    <thead>\n",
       "        <tr>\n",
       "            <th>nbr_of_id</th>\n",
       "            <th>community_area_number</th>\n",
       "        </tr>\n",
       "    </thead>\n",
       "    <tbody>\n",
       "        <tr>\n",
       "            <td>43</td>\n",
       "            <td>25</td>\n",
       "        </tr>\n",
       "    </tbody>\n",
       "</table>"
      ],
      "text/plain": [
       "[(43, 25)]"
      ]
     },
     "execution_count": 111,
     "metadata": {},
     "output_type": "execute_result"
    }
   ],
   "source": [
    "%%sql SELECT COUNT(id) AS nbr_of_id, community_area_number \n",
    "    FROM CHICAGO_CRIME_DATA \n",
    "    GROUP BY community_area_number \n",
    "    ORDER BY nbr_of_id DESC\n",
    "    LIMIT 1;"
   ]
  },
  {
   "cell_type": "markdown",
   "metadata": {},
   "source": [
    "Double-click **here** for a hint\n",
    "\n",
    "<!--\n",
    "Query for the 'community area number' that is most crime prone.\n",
    "-->\n"
   ]
  },
  {
   "cell_type": "markdown",
   "metadata": {
    "jp-MarkdownHeadingCollapsed": true,
    "tags": []
   },
   "source": [
    "### Problem 9\n",
    "\n",
    "##### Use a sub-query to find the name of the community area with highest hardship index\n"
   ]
  },
  {
   "cell_type": "code",
   "execution_count": 42,
   "metadata": {},
   "outputs": [
    {
     "name": "stdout",
     "output_type": "stream",
     "text": [
      " * ibm_db_sa://xqk12606:***@54a2f15b-5c0f-46df-8954-7e38e612c2bd.c1ogj3sd0tgtu0lqde00.databases.appdomain.cloud:32733/BLUDB\n",
      "Done.\n"
     ]
    },
    {
     "data": {
      "text/html": [
       "<table>\n",
       "    <thead>\n",
       "        <tr>\n",
       "            <th>community_area_name</th>\n",
       "            <th>hardship_index</th>\n",
       "        </tr>\n",
       "    </thead>\n",
       "    <tbody>\n",
       "        <tr>\n",
       "            <td>Riverdale</td>\n",
       "            <td>98</td>\n",
       "        </tr>\n",
       "    </tbody>\n",
       "</table>"
      ],
      "text/plain": [
       "[('Riverdale', 98)]"
      ]
     },
     "execution_count": 42,
     "metadata": {},
     "output_type": "execute_result"
    }
   ],
   "source": [
    "%%sql SELECT community_area_name, hardship_index \n",
    "    FROM CENSUS_DATA\n",
    "    WHERE hardship_index =\n",
    "    (SELECT MAX(hardship_index) FROM CENSUS_DATA);"
   ]
  },
  {
   "cell_type": "markdown",
   "metadata": {},
   "source": [
    "### Problem 10\n",
    "\n",
    "##### Use a sub-query to determine the Community Area Name with most number of crimes?\n"
   ]
  },
  {
   "cell_type": "code",
   "execution_count": 109,
   "metadata": {},
   "outputs": [
    {
     "name": "stdout",
     "output_type": "stream",
     "text": [
      " * ibm_db_sa://xqk12606:***@54a2f15b-5c0f-46df-8954-7e38e612c2bd.c1ogj3sd0tgtu0lqde00.databases.appdomain.cloud:32733/BLUDB\n",
      "Done.\n"
     ]
    },
    {
     "data": {
      "text/html": [
       "<table>\n",
       "    <thead>\n",
       "        <tr>\n",
       "            <th>community_area_name</th>\n",
       "            <th>nbr_of_crimes</th>\n",
       "        </tr>\n",
       "    </thead>\n",
       "    <tbody>\n",
       "        <tr>\n",
       "            <td>Austin</td>\n",
       "            <td>43</td>\n",
       "        </tr>\n",
       "    </tbody>\n",
       "</table>"
      ],
      "text/plain": [
       "[('Austin', 43)]"
      ]
     },
     "execution_count": 109,
     "metadata": {},
     "output_type": "execute_result"
    }
   ],
   "source": [
    "%%sql SELECT community_area_name, nbr_of_crimes\n",
    "    FROM (SELECT CD.community_area_name, COUNT(CCD.id) AS nbr_of_crimes\n",
    "        FROM CENSUS_DATA as CD, CHICAGO_CRIME_DATA AS CCD\n",
    "        WHERE CD.community_area_number = CCD.community_area_number\n",
    "        GROUP BY CD.community_area_name)\n",
    "    ORDER BY nbr_of_crimes DESC\n",
    "    LIMIT 1;\n",
    "    "
   ]
  },
  {
   "cell_type": "markdown",
   "metadata": {},
   "source": [
    "Copyright © 2020 [cognitiveclass.ai](cognitiveclass.ai?utm_source=bducopyrightlink&utm_medium=dswb&utm_campaign=bdu). This notebook and its source code are released under the terms of the [MIT License](https://bigdatauniversity.com/mit-license?utm_medium=Exinfluencer&utm_source=Exinfluencer&utm_content=000026UJ&utm_term=10006555&utm_id=NA-SkillsNetwork-Channel-SkillsNetworkCoursesIBMDeveloperSkillsNetworkDB0201ENSkillsNetwork20127838-2022-01-01&cm_mmc=Email_Newsletter-\\_-Developer_Ed%2BTech-\\_-WW_WW-\\_-SkillsNetwork-Courses-IBMDeveloperSkillsNetwork-DB0201EN-SkillsNetwork-20127838&cm_mmca1=000026UJ&cm_mmca2=10006555&cm_mmca3=M12345678&cvosrc=email.Newsletter.M12345678&cvo_campaign=000026UJ).\n"
   ]
  },
  {
   "cell_type": "markdown",
   "metadata": {},
   "source": [
    "## Author(s)\n",
    "\n",
    "<h4> Hima Vasudevan </h4>\n",
    "<h4> Rav Ahuja </h4>\n",
    "<h4> Ramesh Sannreddy </h4>\n",
    "\n",
    "## Contribtuor(s)\n",
    "\n",
    "<h4> Malika Singla </h4>\n",
    "\n",
    "## Change log\n",
    "\n",
    "| Date       | Version | Changed by        | Change Description                             |\n",
    "| ---------- | ------- | ----------------- | ---------------------------------------------- |\n",
    "| 2021-11-17 | 2.6     | Lakshmi           | Updated library                                |\n",
    "| 2021-05-19 | 2.4     | Lakshmi Holla     | Updated the question                           |\n",
    "| 2021-04-30 | 2.3     | Malika Singla     | Updated the libraries                          |\n",
    "| 2021-01-15 | 2.2     | Rav Ahuja         | Removed problem 11 and fixed changelog         |\n",
    "| 2020-11-25 | 2.1     | Ramesh Sannareddy | Updated the problem statements, and datasets   |\n",
    "| 2020-09-05 | 2.0     | Malika Singla     | Moved lab to course repo in GitLab             |\n",
    "| 2018-07-18 | 1.0     | Rav Ahuja         | Several updates including loading instructions |\n",
    "| 2018-05-04 | 0.1     | Hima Vasudevan    | Created initial version                        |\n",
    "\n",
    "## <h3 align=\"center\"> © IBM Corporation 2020. All rights reserved. <h3/>\n"
   ]
  }
 ],
 "metadata": {
  "kernelspec": {
   "display_name": "Python",
   "language": "python",
   "name": "conda-env-python-py"
  },
  "language_info": {
   "codemirror_mode": {
    "name": "ipython",
    "version": 3
   },
   "file_extension": ".py",
   "mimetype": "text/x-python",
   "name": "python",
   "nbconvert_exporter": "python",
   "pygments_lexer": "ipython3",
   "version": "3.7.12"
  },
  "widgets": {
   "state": {},
   "version": "1.1.2"
  }
 },
 "nbformat": 4,
 "nbformat_minor": 4
}
